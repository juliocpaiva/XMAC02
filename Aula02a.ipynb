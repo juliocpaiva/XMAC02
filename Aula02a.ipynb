{
  "cells": [
    {
      "cell_type": "markdown",
      "metadata": {
        "id": "A2QVsdyQq5V9"
      },
      "source": [
        "## Listas\n",
        "Listas são estruturas de dados muito úteis para manipulação e análise de dados. Nesta aula vamos aprender os princípios básicos para manipulação de listas. Criar uma lista em Python é muito simples: \\\n",
        "l = [] # Cria uma lista vazia \\\n",
        "l = [1, 2, 3, 4, 5] # Cria uma lista com 5 inteiros"
      ]
    },
    {
      "cell_type": "code",
      "execution_count": 2,
      "metadata": {
        "colab": {
          "base_uri": "https://localhost:8080/"
        },
        "id": "18SXsfmfq5WC",
        "outputId": "e03cb5dc-f6b4-4c63-bd44-8cb4c275ba4e"
      },
      "outputs": [
        {
          "output_type": "stream",
          "name": "stdout",
          "text": [
            "[1, 2, 3, 4, 5]\n"
          ]
        }
      ],
      "source": [
        "l = [1,2,3,4,5]\n",
        "print(l)"
      ]
    },
    {
      "cell_type": "markdown",
      "metadata": {
        "id": "gDLyBgk4q5WD"
      },
      "source": [
        "Para acessar os itens de uma lista, basta utilizar índices, de forma similar ao funcionamento de vetores na linguagem C. Vamos acessar o segundo elemento da nossa lista."
      ]
    },
    {
      "cell_type": "code",
      "execution_count": 3,
      "metadata": {
        "colab": {
          "base_uri": "https://localhost:8080/"
        },
        "id": "_VUcbHb1q5WF",
        "outputId": "98e82645-b119-414b-cb9b-ba4e2d408384"
      },
      "outputs": [
        {
          "output_type": "execute_result",
          "data": {
            "text/plain": [
              "2"
            ]
          },
          "metadata": {},
          "execution_count": 3
        }
      ],
      "source": [
        "l[1]"
      ]
    },
    {
      "cell_type": "markdown",
      "metadata": {
        "id": "WBWZYFBNq5WF"
      },
      "source": [
        "Pode ser necessário acessar mais de um elemento de uma lista. Neste caso, o que se deseja é obter uma sublista da lista original. Python provê um mecanismo muito simples para gerar uma sublista de uma lista.\n",
        "Vamos obter os elementos do meio da nossa lista, excluindo o primeiro e o último. Como fazer isso?"
      ]
    },
    {
      "cell_type": "code",
      "execution_count": 6,
      "metadata": {
        "colab": {
          "base_uri": "https://localhost:8080/"
        },
        "id": "6GNi6tOnq5WG",
        "outputId": "024a0e4d-98d1-4c05-e5c0-d732e3376a6f"
      },
      "outputs": [
        {
          "output_type": "execute_result",
          "data": {
            "text/plain": [
              "[2, 3, 4]"
            ]
          },
          "metadata": {},
          "execution_count": 6
        }
      ],
      "source": [
        "l[1:4]"
      ]
    },
    {
      "cell_type": "markdown",
      "metadata": {
        "id": "Qr_pf3Bjq5WH"
      },
      "source": [
        "Diferentemente de um vetor, uma lista pode conter elementos de diferentes tipos. Vamos criar uma lista com inteiros, números de ponto flutuante e strings."
      ]
    },
    {
      "cell_type": "code",
      "execution_count": 8,
      "metadata": {
        "colab": {
          "base_uri": "https://localhost:8080/"
        },
        "id": "mjPThVDYq5WI",
        "outputId": "19da394e-460c-421c-89b3-bb282ca5a9f7"
      },
      "outputs": [
        {
          "output_type": "execute_result",
          "data": {
            "text/plain": [
              "[8, 7.5, 'data science']"
            ]
          },
          "metadata": {},
          "execution_count": 8
        }
      ],
      "source": [
        "l2 = [8, 7.5, 'data science']\n",
        "l2"
      ]
    },
    {
      "cell_type": "markdown",
      "metadata": {
        "id": "BCGOKmL8q5WJ"
      },
      "source": [
        "Vamos checar agora os tipos dos dados que estamos manipulando."
      ]
    },
    {
      "cell_type": "code",
      "execution_count": 13,
      "metadata": {
        "colab": {
          "base_uri": "https://localhost:8080/"
        },
        "id": "NWzAsHrrq5WL",
        "outputId": "5f91c82e-535e-4106-d03c-d3c9de4c4107"
      },
      "outputs": [
        {
          "output_type": "execute_result",
          "data": {
            "text/plain": [
              "float"
            ]
          },
          "metadata": {},
          "execution_count": 13
        }
      ],
      "source": [
        "#type(l2[0])\n",
        "type(l2[1])\n",
        "#type(l2[2])\n",
        "\n"
      ]
    },
    {
      "cell_type": "markdown",
      "metadata": {
        "id": "fRQyHa67q5WM"
      },
      "source": [
        "Outra característica importante é que elementos de uma lista podem também ser listas, ou seja, podemos ter listas de listas. Vejamos um exemplo:"
      ]
    },
    {
      "cell_type": "code",
      "execution_count": 14,
      "metadata": {
        "colab": {
          "base_uri": "https://localhost:8080/"
        },
        "id": "AFGRDP3Zq5WM",
        "outputId": "a29e3320-ddec-436d-8dfd-151416d121dd"
      },
      "outputs": [
        {
          "output_type": "execute_result",
          "data": {
            "text/plain": [
              "[[1, 2, 3], ['um', 'dois', 'tres']]"
            ]
          },
          "metadata": {},
          "execution_count": 14
        }
      ],
      "source": [
        "ll = [[1, 2, 3], ['um', 'dois', 'tres']]\n",
        "ll"
      ]
    },
    {
      "cell_type": "markdown",
      "metadata": {
        "id": "q-f5wbRhq5WN"
      },
      "source": [
        "Se quisermos acessar a string 'três', como devemos proceder?"
      ]
    },
    {
      "cell_type": "code",
      "execution_count": 15,
      "metadata": {
        "colab": {
          "base_uri": "https://localhost:8080/",
          "height": 35
        },
        "id": "zMKHLlQWq5WN",
        "outputId": "de368169-fa38-45d9-e1cc-b06f578acc31"
      },
      "outputs": [
        {
          "output_type": "execute_result",
          "data": {
            "text/plain": [
              "'tres'"
            ],
            "application/vnd.google.colaboratory.intrinsic+json": {
              "type": "string"
            }
          },
          "metadata": {},
          "execution_count": 15
        }
      ],
      "source": [
        "ll[1][2]"
      ]
    },
    {
      "cell_type": "markdown",
      "metadata": {
        "id": "yBYBv-Xgq5WN"
      },
      "source": [
        "Vamos agora alterar uma lista. Retomando nossa lista inicial l = [1, 2, 3, 4, 5], vamos substituir o inteiro 1 pela string 'um'."
      ]
    },
    {
      "cell_type": "code",
      "execution_count": 16,
      "metadata": {
        "colab": {
          "base_uri": "https://localhost:8080/"
        },
        "id": "_6HO1A_cq5WN",
        "outputId": "96f50b39-52c3-4e86-c35e-dcc6250091fe"
      },
      "outputs": [
        {
          "output_type": "execute_result",
          "data": {
            "text/plain": [
              "['um', 2, 3, 4, 5]"
            ]
          },
          "metadata": {},
          "execution_count": 16
        }
      ],
      "source": [
        "l[0] = 'um'\n",
        "l"
      ]
    },
    {
      "cell_type": "markdown",
      "metadata": {
        "id": "AV2jRi9eq5WO"
      },
      "source": [
        "Se quisermos adicionar um elemento a uma lista, usamos o método append."
      ]
    },
    {
      "cell_type": "code",
      "execution_count": 17,
      "metadata": {
        "colab": {
          "base_uri": "https://localhost:8080/"
        },
        "id": "xn_2b3ujq5WO",
        "outputId": "e4416334-664a-4741-ec81-d21ca7bf59f2"
      },
      "outputs": [
        {
          "output_type": "execute_result",
          "data": {
            "text/plain": [
              "['um', 2, 3, 4, 5, 6]"
            ]
          },
          "metadata": {},
          "execution_count": 17
        }
      ],
      "source": [
        "l.append(6)\n",
        "l\n",
        "#append sempre é inserido no final da lista..."
      ]
    },
    {
      "cell_type": "markdown",
      "metadata": {
        "id": "xOL3btkxq5WP"
      },
      "source": [
        "Para remover um elemento da lista, o método 'pop' deve ser utilizado. Se não for informado um índice, o método pop removerá o elemento da cauda da lista. Se um índice for informado, o elemento que corresponde à posição do índice será removido."
      ]
    },
    {
      "cell_type": "code",
      "execution_count": 18,
      "metadata": {
        "colab": {
          "base_uri": "https://localhost:8080/"
        },
        "id": "CMVbDP9fq5WP",
        "outputId": "d1106fdf-16f5-4db2-ce63-e91f8712dfe6"
      },
      "outputs": [
        {
          "output_type": "stream",
          "name": "stdout",
          "text": [
            "6\n",
            "['um', 2, 3, 4, 5]\n"
          ]
        }
      ],
      "source": [
        "elem = l.pop()\n",
        "print(elem)\n",
        "print(l)"
      ]
    },
    {
      "cell_type": "code",
      "execution_count": 20,
      "metadata": {
        "colab": {
          "base_uri": "https://localhost:8080/"
        },
        "id": "KOoMDXHHq5WP",
        "outputId": "27b1910e-5069-4842-9845-580dd8ba884d"
      },
      "outputs": [
        {
          "output_type": "stream",
          "name": "stdout",
          "text": [
            "um\n",
            "[2, 4, 5]\n"
          ]
        }
      ],
      "source": [
        "elem = l.pop(0)\n",
        "print(elem)\n",
        "print(l)"
      ]
    },
    {
      "cell_type": "markdown",
      "metadata": {
        "id": "vQwk3L5Fq5WQ"
      },
      "source": [
        "Existem ainda uma série de métodos muito úteis para manipulação de listas. Se você está utilizando o VS Code, o autocomplete lista todos os métodos disponíveis para manipulação de listas. Se estiver usando o Jupyter Notebook no browser, basta pressionar Tab após referenciar a lista para ver todos os métodos disponíveis. Vejamos alguns métodos interessantes: \\\n",
        "-count: conta as ocorrências de um determinado elemento numa lista \\\n",
        "-reverse: inverte a lista \\\n",
        "-insert: insere um elemento numa determinada posição, se já existe um elemento naquela posição, o elemento é deslocado para a posição seguinte \\\n",
        "-remove: similar ao pop \\\n",
        "-sort: ordena a lista"
      ]
    },
    {
      "cell_type": "markdown",
      "metadata": {
        "id": "twEaBWZ6q5WQ"
      },
      "source": [
        "Suponha que você queira criar uma lista com números gerados automaticamente. Para tanto, você pode usar o método range. Duas assinaturas são possíveis: \\\n",
        "range (stop): gera números a partir do zero até 'stop' \\\n",
        "range (start, stop): gera números a partir de 'start' até 'stop' \\\n",
        "range (start, stop, step): gera números a partir de 'start' até 'stop' com espaçamento entre os números de 'step'"
      ]
    },
    {
      "cell_type": "code",
      "execution_count": 22,
      "metadata": {
        "colab": {
          "base_uri": "https://localhost:8080/"
        },
        "id": "FWeRz15lq5WQ",
        "outputId": "98722668-70fe-482a-8cf1-f96931ee6696"
      },
      "outputs": [
        {
          "output_type": "execute_result",
          "data": {
            "text/plain": [
              "[0, 1, 2, 3, 4]"
            ]
          },
          "metadata": {},
          "execution_count": 22
        }
      ],
      "source": [
        "list (range(5))"
      ]
    },
    {
      "cell_type": "code",
      "execution_count": 23,
      "metadata": {
        "colab": {
          "base_uri": "https://localhost:8080/"
        },
        "id": "E8aRDhz5q5WQ",
        "outputId": "d81873e7-0a25-4258-c835-e0d78ec7ab05"
      },
      "outputs": [
        {
          "output_type": "execute_result",
          "data": {
            "text/plain": [
              "[10, 11, 12, 13, 14, 15, 16, 17, 18, 19]"
            ]
          },
          "metadata": {},
          "execution_count": 23
        }
      ],
      "source": [
        "list(range(10,20))"
      ]
    },
    {
      "cell_type": "code",
      "execution_count": 24,
      "metadata": {
        "colab": {
          "base_uri": "https://localhost:8080/"
        },
        "id": "82SQcnjCq5WR",
        "outputId": "2df27ae4-f334-49ad-8ff7-036752095042"
      },
      "outputs": [
        {
          "output_type": "execute_result",
          "data": {
            "text/plain": [
              "[10, 15, 20, 25, 30, 35, 40, 45, 50, 55, 60, 65, 70, 75, 80, 85, 90, 95]"
            ]
          },
          "metadata": {},
          "execution_count": 24
        }
      ],
      "source": [
        "list(range(10,100, 5))"
      ]
    },
    {
      "cell_type": "markdown",
      "metadata": {
        "id": "Hrrq4lByq5WR"
      },
      "source": [
        "Por fim, podemos processar uma lista usando um laço for. Vamos criar uma lista de nomes e imprimir de forma numerada essa lista."
      ]
    },
    {
      "cell_type": "code",
      "execution_count": 28,
      "metadata": {
        "colab": {
          "base_uri": "https://localhost:8080/"
        },
        "id": "8p9dZIICq5WR",
        "outputId": "5ff509aa-3329-4b74-cff3-c9c19dd39492"
      },
      "outputs": [
        {
          "output_type": "stream",
          "name": "stdout",
          "text": [
            "1 - Maria\n",
            "2 - João\n",
            "3 - Pedro\n",
            "4 - Ana\n",
            "5 - Carolina\n"
          ]
        }
      ],
      "source": [
        "lista_nomes = ['Maria' , 'João', 'Pedro', 'Ana', 'Carolina']\n",
        "i = 1\n",
        "for nome in lista_nomes:\n",
        "  print(str(i) + ' - ' + nome)\n",
        "  i=i+1"
      ]
    },
    {
      "cell_type": "markdown",
      "metadata": {
        "id": "Ojqm_ggRq5WR"
      },
      "source": [
        "### Exercícios"
      ]
    },
    {
      "cell_type": "markdown",
      "metadata": {
        "id": "qJ85TxGKq5WS"
      },
      "source": [
        "1) Crie uma lista contendo as seguintes frutas: banana, maçã, pera, caqui e laranja. \\\n",
        "A. Ordene e imprima a lista\n",
        "B. Insira abacate no início da lista e uva no final e imprima a lista \\\n",
        "C. Imprima o elemento do meio da lista \\\n",
        "D. Imprima os 3 primeiros elementos da lista \\\n",
        "E. Imprima os 3 últimos elementos da lista \\\n",
        "F. Inverta a lista e imprima a lista invertida \\\n",
        "G. Imprima uma lista de compras contendo 3 unidades de cada fruta"
      ]
    },
    {
      "cell_type": "code",
      "execution_count": 62,
      "metadata": {
        "colab": {
          "base_uri": "https://localhost:8080/"
        },
        "id": "vme_cD89q5WS",
        "outputId": "aec6ef5c-a795-4603-efac-3cbfb7fbb55d"
      },
      "outputs": [
        {
          "output_type": "execute_result",
          "data": {
            "text/plain": [
              "['banana', 'caqui', 'laranja', 'maçã', 'pera']"
            ]
          },
          "metadata": {},
          "execution_count": 62
        }
      ],
      "source": [
        "#A. Ordene e imprima a lista\n",
        "lista_frutas = ['banana', 'maçã', 'pera', 'caqui', 'laranja']\n",
        "lista_frutas.sort()\n",
        "lista_frutas"
      ]
    },
    {
      "cell_type": "code",
      "execution_count": 63,
      "metadata": {
        "colab": {
          "base_uri": "https://localhost:8080/"
        },
        "id": "cjvBMA3Lq5WS",
        "outputId": "cb4c5b24-e8c7-44b5-8498-4cf669b2f30c"
      },
      "outputs": [
        {
          "output_type": "execute_result",
          "data": {
            "text/plain": [
              "['abacate', 'banana', 'caqui', 'laranja', 'maçã', 'pera', 'uva']"
            ]
          },
          "metadata": {},
          "execution_count": 63
        }
      ],
      "source": [
        "lista_frutas.insert(0, 'abacate')\n",
        "lista_frutas.append('uva')\n",
        "lista_frutas"
      ]
    },
    {
      "cell_type": "code",
      "execution_count": 64,
      "metadata": {
        "colab": {
          "base_uri": "https://localhost:8080/",
          "height": 35
        },
        "id": "2IfsoNw9q5WS",
        "outputId": "aec76e42-3acc-46b0-eeee-0b8fdb1718b1"
      },
      "outputs": [
        {
          "output_type": "execute_result",
          "data": {
            "text/plain": [
              "'laranja'"
            ],
            "application/vnd.google.colaboratory.intrinsic+json": {
              "type": "string"
            }
          },
          "metadata": {},
          "execution_count": 64
        }
      ],
      "source": [
        "#C. Imprima o elemento do meio da lista\n",
        "meio = len(lista_frutas) //2\n",
        "\n",
        "lista_frutas[meio]"
      ]
    },
    {
      "cell_type": "code",
      "execution_count": 65,
      "metadata": {
        "colab": {
          "base_uri": "https://localhost:8080/"
        },
        "id": "lu2zKp8Yq5WT",
        "outputId": "4ab9ffcf-4d93-44b2-ec1e-f3f3d66f270c"
      },
      "outputs": [
        {
          "output_type": "execute_result",
          "data": {
            "text/plain": [
              "['abacate', 'banana', 'caqui']"
            ]
          },
          "metadata": {},
          "execution_count": 65
        }
      ],
      "source": [
        "#D. Imprima os 3 primeiros elementos da lista\n",
        "lista_frutas[:3]"
      ]
    },
    {
      "cell_type": "code",
      "execution_count": 66,
      "metadata": {
        "colab": {
          "base_uri": "https://localhost:8080/"
        },
        "id": "1rgNskD8q5WT",
        "outputId": "850eb564-8bd2-421c-dc3b-105a1a261cae"
      },
      "outputs": [
        {
          "output_type": "execute_result",
          "data": {
            "text/plain": [
              "['maçã', 'pera', 'uva']"
            ]
          },
          "metadata": {},
          "execution_count": 66
        }
      ],
      "source": [
        "#E. Imprima os 3 últimos elementos da lista\n",
        "lista_frutas[-3:]"
      ]
    },
    {
      "cell_type": "code",
      "execution_count": 67,
      "metadata": {
        "colab": {
          "base_uri": "https://localhost:8080/"
        },
        "id": "Acy1WU8Dq5WT",
        "outputId": "ab8b8cff-6b38-4ee3-8011-4e8539b71da4"
      },
      "outputs": [
        {
          "output_type": "execute_result",
          "data": {
            "text/plain": [
              "['uva', 'pera', 'maçã', 'laranja', 'caqui', 'banana', 'abacate']"
            ]
          },
          "metadata": {},
          "execution_count": 67
        }
      ],
      "source": [
        "#F. Inverta a lista e imprima a lista invertida\n",
        "lista_frutas.reverse()\n",
        "\n",
        "lista_frutas"
      ]
    },
    {
      "cell_type": "code",
      "execution_count": 69,
      "metadata": {
        "colab": {
          "base_uri": "https://localhost:8080/"
        },
        "id": "tKAOiUvfq5WT",
        "outputId": "35eb5359-b5ed-4e9d-fde0-862e8a163608"
      },
      "outputs": [
        {
          "output_type": "stream",
          "name": "stdout",
          "text": [
            "3 uvas\n",
            "3 peras\n",
            "3 maçãs\n",
            "3 laranjas\n",
            "3 caquis\n",
            "3 bananas\n",
            "3 abacates\n"
          ]
        }
      ],
      "source": [
        "#G. Imprima uma lista de compras contendo 3 unidades de cada fruta\n",
        "for f in lista_frutas:\n",
        "  print('3 ' + f + 's')\n",
        "\n"
      ]
    },
    {
      "cell_type": "markdown",
      "metadata": {
        "id": "AYd0vSaaq5WT"
      },
      "source": [
        "2) Considere a lista a seguir."
      ]
    },
    {
      "cell_type": "code",
      "execution_count": 54,
      "metadata": {
        "id": "FhYaEOKtq5WT"
      },
      "outputs": [],
      "source": [
        "lista = [12, 8, 15, 10, 12, 6, 19, 23, 7, 8, 14, 12, 20, 4, 14, 12, 8, 25, 21, 11]"
      ]
    },
    {
      "cell_type": "markdown",
      "metadata": {
        "id": "PBKJdNgLq5WU"
      },
      "source": [
        "A. Obtenha o maior elemento da lista. \\\n",
        "B. Obtenha a soma dos elementos da lista. \\\n",
        "C. Informe o tamanho da lista (sua quantidade de elementos). \\\n",
        "D. Troque a posição do primeiro e do último elementos da lista (primeiro vira último e último vira primeiro). \\\n",
        "E. Obtenha o segundo maior elemento da lista. \\\n",
        "F. Conte as ocorrências do número 12. \\\n",
        "G. Crie uma lista l1 contendo os elementos pares da lista e uma lista l2 contendo os elementos ímpares. Imprima l1 e l2."
      ]
    },
    {
      "cell_type": "code",
      "execution_count": 70,
      "metadata": {
        "colab": {
          "base_uri": "https://localhost:8080/"
        },
        "id": "_bVw_fVoq5WU",
        "outputId": "62b31798-3ac7-4f1e-dde6-5e25f759b6e7"
      },
      "outputs": [
        {
          "output_type": "execute_result",
          "data": {
            "text/plain": [
              "25"
            ]
          },
          "metadata": {},
          "execution_count": 70
        }
      ],
      "source": [
        "#A. Obtenha o maior elemento da lista.\n",
        "max(lista)"
      ]
    },
    {
      "cell_type": "code",
      "execution_count": 71,
      "metadata": {
        "colab": {
          "base_uri": "https://localhost:8080/"
        },
        "id": "se7QAnOhq5WU",
        "outputId": "2749d588-b314-4094-ed7b-3f11345261f9"
      },
      "outputs": [
        {
          "output_type": "execute_result",
          "data": {
            "text/plain": [
              "261"
            ]
          },
          "metadata": {},
          "execution_count": 71
        }
      ],
      "source": [
        "#B. Obtenha a soma dos elementos da lista.\n",
        "sum(lista)"
      ]
    },
    {
      "cell_type": "code",
      "execution_count": 72,
      "metadata": {
        "colab": {
          "base_uri": "https://localhost:8080/"
        },
        "id": "Myb9kjtwq5WV",
        "outputId": "3d303bde-40b2-4733-fdcc-2cb97e37ceb3"
      },
      "outputs": [
        {
          "output_type": "execute_result",
          "data": {
            "text/plain": [
              "20"
            ]
          },
          "metadata": {},
          "execution_count": 72
        }
      ],
      "source": [
        "#C. Informe o tamanho da lista (sua quantidade de elementos).\n",
        "len(lista)"
      ]
    },
    {
      "cell_type": "code",
      "execution_count": 81,
      "metadata": {
        "colab": {
          "base_uri": "https://localhost:8080/"
        },
        "id": "97f6ifsgq5WV",
        "outputId": "6351d255-3898-4ecc-93fc-c94d03ba1497"
      },
      "outputs": [
        {
          "output_type": "stream",
          "name": "stdout",
          "text": [
            "[11, 8, 15, 10, 12, 6, 19, 23, 7, 8, 14, 12, 20, 4, 14, 12, 8, 25, 21, 12]\n",
            "[12, 8, 15, 10, 12, 6, 19, 23, 7, 8, 14, 12, 20, 4, 14, 12, 8, 25, 21, 11]\n"
          ]
        }
      ],
      "source": [
        "#D. Troque a posição do primeiro e do último elementos da lista (primeiro vira último e último vira primeiro).\n",
        "print(lista)\n",
        "lista[0], lista[-1] = lista[-1], lista[0]\n",
        "\n",
        "print(lista)"
      ]
    },
    {
      "cell_type": "code",
      "execution_count": 82,
      "metadata": {
        "colab": {
          "base_uri": "https://localhost:8080/"
        },
        "id": "3CGyFYZqq5WV",
        "outputId": "25e0b595-9bf3-49c8-8bdd-392686f17264"
      },
      "outputs": [
        {
          "output_type": "execute_result",
          "data": {
            "text/plain": [
              "23"
            ]
          },
          "metadata": {},
          "execution_count": 82
        }
      ],
      "source": [
        "#E. Obtenha o segundo maior elemento da lista.\n",
        "lista.sort()\n",
        "lista[-2]"
      ]
    },
    {
      "cell_type": "code",
      "execution_count": 74,
      "metadata": {
        "colab": {
          "base_uri": "https://localhost:8080/"
        },
        "id": "NMAakeu0q5WV",
        "outputId": "d3e6500d-7516-4cf0-9fd3-6775b4db670e"
      },
      "outputs": [
        {
          "output_type": "execute_result",
          "data": {
            "text/plain": [
              "4"
            ]
          },
          "metadata": {},
          "execution_count": 74
        }
      ],
      "source": [
        "#F. Conte as ocorrências do número 12.\n",
        "lista.count(12)"
      ]
    },
    {
      "cell_type": "code",
      "execution_count": 83,
      "metadata": {
        "colab": {
          "base_uri": "https://localhost:8080/"
        },
        "id": "rhKkTd_vq5WW",
        "outputId": "2152a75e-739e-4290-bb97-621583a53aaa"
      },
      "outputs": [
        {
          "output_type": "stream",
          "name": "stdout",
          "text": [
            "[4, 6, 8, 8, 8, 10, 12, 12, 12, 12, 14, 14, 20]\n",
            "[7, 11, 15, 19, 21, 23, 25]\n"
          ]
        }
      ],
      "source": [
        "#G. Crie uma lista l1 contendo os elementos pares da lista e uma lista l2 contendo os elementos ímpares. Imprima l1 e l2.\n",
        "l1 = []\n",
        "l2 = []\n",
        "\n",
        "for item in lista:\n",
        "  if item%2 == 0:\n",
        "    l1.append(item)\n",
        "  else:\n",
        "    l2.append(item)\n",
        "\n",
        "print(l1)\n",
        "print(l2)"
      ]
    }
  ],
  "metadata": {
    "kernelspec": {
      "display_name": "base",
      "language": "python",
      "name": "python3"
    },
    "language_info": {
      "codemirror_mode": {
        "name": "ipython",
        "version": 3
      },
      "file_extension": ".py",
      "mimetype": "text/x-python",
      "name": "python",
      "nbconvert_exporter": "python",
      "pygments_lexer": "ipython3",
      "version": "3.10.9"
    },
    "colab": {
      "provenance": []
    }
  },
  "nbformat": 4,
  "nbformat_minor": 0
}