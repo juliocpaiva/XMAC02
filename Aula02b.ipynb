{
  "cells": [
    {
      "cell_type": "markdown",
      "metadata": {
        "id": "4ChEqBK5q_Un"
      },
      "source": [
        "## Dicionário\n",
        "Dicionário é uma estrutura de dados que pode ser útil quando é necessário encontrar valores associados a chaves. Por exemplo, suponha que se deseja obter o idioma principal falado em um país, e que essa informação esteja disponível para todos os países do globo. Para tanto, a melhor solução é criar um dicionário cuja chave é o nome do país e o valor é o idioma falado naquele país."
      ]
    },
    {
      "cell_type": "code",
      "execution_count": 1,
      "metadata": {
        "id": "kDYVdJuFq_Up"
      },
      "outputs": [],
      "source": [
        "dic = {'Brasil': 'portuguẽs', 'EUA': 'english', 'México': 'español', 'França': 'francês', 'Egito': 'arabe'}"
      ]
    },
    {
      "cell_type": "markdown",
      "metadata": {
        "id": "VYxfqrAIq_Up"
      },
      "source": [
        "Qual o idioma falado no Egito?"
      ]
    },
    {
      "cell_type": "code",
      "execution_count": 2,
      "metadata": {
        "colab": {
          "base_uri": "https://localhost:8080/",
          "height": 35
        },
        "id": "favCwgOqq_Uq",
        "outputId": "22e88a8c-4421-4d7c-b8eb-f47b17a26d0a"
      },
      "outputs": [
        {
          "output_type": "execute_result",
          "data": {
            "text/plain": [
              "'arabe'"
            ],
            "application/vnd.google.colaboratory.intrinsic+json": {
              "type": "string"
            }
          },
          "metadata": {},
          "execution_count": 2
        }
      ],
      "source": [
        "dic['Egito']"
      ]
    },
    {
      "cell_type": "markdown",
      "metadata": {
        "id": "ZplOkV-eq_Uq"
      },
      "source": [
        "É possível obter o valor de todas as chaves e de todos os itens de um dicionário, usando os métodos keys() e items()."
      ]
    },
    {
      "cell_type": "code",
      "execution_count": 3,
      "metadata": {
        "colab": {
          "base_uri": "https://localhost:8080/"
        },
        "id": "ttyiyvrtq_Uq",
        "outputId": "d3606f8f-0da5-426a-83d9-feecd45afcd5"
      },
      "outputs": [
        {
          "output_type": "execute_result",
          "data": {
            "text/plain": [
              "dict_keys(['Brasil', 'EUA', 'México', 'França', 'Egito'])"
            ]
          },
          "metadata": {},
          "execution_count": 3
        }
      ],
      "source": [
        "dic.keys()"
      ]
    },
    {
      "cell_type": "code",
      "execution_count": 4,
      "metadata": {
        "colab": {
          "base_uri": "https://localhost:8080/"
        },
        "id": "ZFCCVA7sq_Uq",
        "outputId": "e22a6d6b-f333-4cad-c0d1-d1c1c9271266"
      },
      "outputs": [
        {
          "output_type": "execute_result",
          "data": {
            "text/plain": [
              "dict_items([('Brasil', 'portuguẽs'), ('EUA', 'english'), ('México', 'español'), ('França', 'francês'), ('Egito', 'arabe')])"
            ]
          },
          "metadata": {},
          "execution_count": 4
        }
      ],
      "source": [
        "dic.items()"
      ]
    },
    {
      "cell_type": "markdown",
      "metadata": {
        "id": "QVcG0Xriq_Ur"
      },
      "source": [
        "Existem ainda os tipos de dado tupla e set. \\\n",
        "Tupla é uma lista imutável.\n",
        "Exemplo: t = (1, 2, 3)"
      ]
    },
    {
      "cell_type": "markdown",
      "metadata": {
        "id": "KweTpxEnq_Ur"
      },
      "source": [
        "Set é um tipo de lista que não permite repetição de elementos. Ainda que se crie um set com elementos repetidos, esses serão removidos e o set ficará apenas com elementos únicos. Exemplo: \\\n",
        "s = {1, 3, 3, 6, 7, 1}"
      ]
    },
    {
      "cell_type": "code",
      "execution_count": 5,
      "metadata": {
        "colab": {
          "base_uri": "https://localhost:8080/"
        },
        "id": "GvtLnprzq_Us",
        "outputId": "245ffc99-c6e5-47ca-bd80-6ac0840b2dae"
      },
      "outputs": [
        {
          "output_type": "stream",
          "name": "stdout",
          "text": [
            "{1, 3, 6, 7}\n"
          ]
        }
      ],
      "source": [
        "s = {1, 3, 3, 6, 7, 1}\n",
        "print(s)"
      ]
    },
    {
      "cell_type": "markdown",
      "metadata": {
        "id": "1ChwyPYUq_Us"
      },
      "source": [
        "Exercício \\\n",
        "Crie um dicionário contendo os seguintes nomes e números de telefone: \\\n",
        "Pedro - 11111 1111 \\\n",
        "Ana - 22222 2222 \\\n",
        "Joel - 33333 3333 \\\n",
        "Maria - 44444 4444 \\\n",
        "Caio - 55555 5555 \\\n",
        "Em seguida: \\\n",
        "A. Informe o telefone do Joel \\\n",
        "B. Leia um nome, verifique se consta no dicionário. Em caso afirmativo, informe seu telefone"
      ]
    },
    {
      "cell_type": "code",
      "execution_count": 6,
      "metadata": {
        "colab": {
          "base_uri": "https://localhost:8080/",
          "height": 35
        },
        "id": "2cj8kJKzq_Us",
        "outputId": "d930bebc-d45f-415f-deca-a845acdb88d1"
      },
      "outputs": [
        {
          "output_type": "execute_result",
          "data": {
            "text/plain": [
              "'33333-3333'"
            ],
            "application/vnd.google.colaboratory.intrinsic+json": {
              "type": "string"
            }
          },
          "metadata": {},
          "execution_count": 6
        }
      ],
      "source": [
        "dic = {'Pedro' : '11111-1111', 'Ana' : '22222-2222', 'Joel' : '33333-3333', 'Maria' : '44444-4444', 'caio' : '55555-5555', }\n",
        "dic['Joel']"
      ]
    },
    {
      "cell_type": "code",
      "execution_count": 9,
      "metadata": {
        "colab": {
          "base_uri": "https://localhost:8080/"
        },
        "id": "02Nom9nEq_Us",
        "outputId": "34654c01-73af-4c4c-eccd-40395d548f45"
      },
      "outputs": [
        {
          "output_type": "stream",
          "name": "stdout",
          "text": [
            "Digite um contato: Joel\n",
            "33333-3333\n"
          ]
        }
      ],
      "source": [
        "nome = input(\"Digite um contato: \")\n",
        "\n",
        "if nome in dic:\n",
        "  print(dic[nome])\n",
        "else:\n",
        "  print(\"Nome não encontrado.\")"
      ]
    }
  ],
  "metadata": {
    "kernelspec": {
      "display_name": "base",
      "language": "python",
      "name": "python3"
    },
    "language_info": {
      "codemirror_mode": {
        "name": "ipython",
        "version": 3
      },
      "file_extension": ".py",
      "mimetype": "text/x-python",
      "name": "python",
      "nbconvert_exporter": "python",
      "pygments_lexer": "ipython3",
      "version": "3.10.9"
    },
    "orig_nbformat": 4,
    "vscode": {
      "interpreter": {
        "hash": "375cb2be7c48c11bb855aa4c37dc6c17bef886eb77cae35fc21e121628c6e1e2"
      }
    },
    "colab": {
      "provenance": []
    }
  },
  "nbformat": 4,
  "nbformat_minor": 0
}